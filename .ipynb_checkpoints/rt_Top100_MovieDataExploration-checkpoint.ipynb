{
 "cells": [
  {
   "cell_type": "code",
   "execution_count": 1,
   "metadata": {},
   "outputs": [],
   "source": [
    "import os\n",
    "from bs4 import BeautifulSoup"
   ]
  },
  {
   "cell_type": "code",
   "execution_count": 2,
   "metadata": {},
   "outputs": [],
   "source": [
    "# change to the project directory working on\n",
    "path = \"projects_on_GitHub/data_wrangling/rt_MovieDataExplore\"\n",
    "os.chdir(path)"
   ]
  },
  {
   "cell_type": "code",
   "execution_count": 8,
   "metadata": {},
   "outputs": [
    {
     "name": "stdout",
     "output_type": "stream",
     "text": [
      "E.T. The Extra-Terrestrial (1982)\n",
      "72\n",
      "32313030\n"
     ]
    }
   ],
   "source": [
    "# parse a certain file as demo\n",
    "\n",
    "folder = 'rt_html'  # the folder name where all the html files living in\n",
    "\n",
    "with open(os.path.join(folder,'et_the_extraterrestrial.html')) as file:\n",
    "    soup = BeautifulSoup(file, 'lxml')\n",
    "    title = soup.find('title').contents[0][:-len(' - Rotten Tomatoes')]\n",
    "    audience_score = soup.find('div', class_=\"audience-score meter\").find('span').contents[0].replace('%','')\n",
    "    num_audience_ratings = soup.find('div', class_=\"audience-info hidden-xs superPageFontColor\").find_all('div')[1].contents[2].strip().replace(',','')\n",
    "    print(title)\n",
    "    print(audience_score)\n",
    "    print(num_audience_ratings)\n"
   ]
  },
  {
   "cell_type": "code",
   "execution_count": null,
   "metadata": {},
   "outputs": [],
   "source": [
    "# parse all html files as above\n",
    "\n",
    "df_list = []\n",
    "\n",
    "for movie_html in os.listdir(folder):\n",
    "    with open(os.path.join(folder, movie_html)) as file:\n",
    "        soup = BeautifulSoup(file, 'lxml')\n",
    "        title = soup.find('title').contents[0][:-len(' - Rotten Tomatoes')]\n",
    "        audience_score = soup.find('div', class_=\"audience-score meter\").find('span').contents[0].replace('%','')\n",
    "        num_audience_ratings = soup.find('div', class_=\"audience-info hidden-xs superPageFontColor\").find_all('div')[1].contents[2].strip().replace(',','')\n",
    "        \n",
    "    df_list.append({'title': title, 'audience_score': audience_score, 'number_of_audience_ratings': num_audience_ratings})"
   ]
  },
  {
   "cell_type": "code",
   "execution_count": 10,
   "metadata": {},
   "outputs": [
    {
     "data": {
      "text/plain": [
       "[{'title': 'Zootopia\\xa0(2016)',\n",
       "  'audience_score': '92',\n",
       "  'number_of_audience_ratings': '98633'},\n",
       " {'title': 'The Treasure of the Sierra Madre\\xa0(1948)',\n",
       "  'audience_score': '93',\n",
       "  'number_of_audience_ratings': '25627'},\n",
       " {'title': 'All Quiet on the Western Front\\xa0(1930)',\n",
       "  'audience_score': '89',\n",
       "  'number_of_audience_ratings': '17768'},\n",
       " {'title': 'Rear Window\\xa0(1954)',\n",
       "  'audience_score': '95',\n",
       "  'number_of_audience_ratings': '149458'},\n",
       " {'title': 'Selma\\xa0(2015)',\n",
       "  'audience_score': '86',\n",
       "  'number_of_audience_ratings': '60533'}]"
      ]
     },
     "execution_count": 10,
     "metadata": {},
     "output_type": "execute_result"
    }
   ],
   "source": [
    "df_list[:5]"
   ]
  },
  {
   "cell_type": "code",
   "execution_count": 11,
   "metadata": {},
   "outputs": [
    {
     "data": {
      "text/html": [
       "<div>\n",
       "<style scoped>\n",
       "    .dataframe tbody tr th:only-of-type {\n",
       "        vertical-align: middle;\n",
       "    }\n",
       "\n",
       "    .dataframe tbody tr th {\n",
       "        vertical-align: top;\n",
       "    }\n",
       "\n",
       "    .dataframe thead th {\n",
       "        text-align: right;\n",
       "    }\n",
       "</style>\n",
       "<table border=\"1\" class=\"dataframe\">\n",
       "  <thead>\n",
       "    <tr style=\"text-align: right;\">\n",
       "      <th></th>\n",
       "      <th>title</th>\n",
       "      <th>audience_score</th>\n",
       "      <th>number_of_audience_ratings</th>\n",
       "    </tr>\n",
       "  </thead>\n",
       "  <tbody>\n",
       "    <tr>\n",
       "      <th>0</th>\n",
       "      <td>Zootopia (2016)</td>\n",
       "      <td>92</td>\n",
       "      <td>98633</td>\n",
       "    </tr>\n",
       "    <tr>\n",
       "      <th>1</th>\n",
       "      <td>The Treasure of the Sierra Madre (1948)</td>\n",
       "      <td>93</td>\n",
       "      <td>25627</td>\n",
       "    </tr>\n",
       "    <tr>\n",
       "      <th>2</th>\n",
       "      <td>All Quiet on the Western Front (1930)</td>\n",
       "      <td>89</td>\n",
       "      <td>17768</td>\n",
       "    </tr>\n",
       "    <tr>\n",
       "      <th>3</th>\n",
       "      <td>Rear Window (1954)</td>\n",
       "      <td>95</td>\n",
       "      <td>149458</td>\n",
       "    </tr>\n",
       "    <tr>\n",
       "      <th>4</th>\n",
       "      <td>Selma (2015)</td>\n",
       "      <td>86</td>\n",
       "      <td>60533</td>\n",
       "    </tr>\n",
       "  </tbody>\n",
       "</table>\n",
       "</div>"
      ],
      "text/plain": [
       "                                     title audience_score  \\\n",
       "0                          Zootopia (2016)             92   \n",
       "1  The Treasure of the Sierra Madre (1948)             93   \n",
       "2    All Quiet on the Western Front (1930)             89   \n",
       "3                       Rear Window (1954)             95   \n",
       "4                             Selma (2015)             86   \n",
       "\n",
       "  number_of_audience_ratings  \n",
       "0                      98633  \n",
       "1                      25627  \n",
       "2                      17768  \n",
       "3                     149458  \n",
       "4                      60533  "
      ]
     },
     "execution_count": 11,
     "metadata": {},
     "output_type": "execute_result"
    }
   ],
   "source": [
    "# convert the df_list into a DataFrame\n",
    "df = pd.DataFrame(df_list, columns=['title', 'audience_score', 'number_of_audience_ratings'])\n",
    "df.head()"
   ]
  },
  {
   "cell_type": "code",
   "execution_count": null,
   "metadata": {},
   "outputs": [],
   "source": []
  }
 ],
 "metadata": {
  "kernelspec": {
   "display_name": "Python 3",
   "language": "python",
   "name": "python3"
  },
  "language_info": {
   "codemirror_mode": {
    "name": "ipython",
    "version": 3
   },
   "file_extension": ".py",
   "mimetype": "text/x-python",
   "name": "python",
   "nbconvert_exporter": "python",
   "pygments_lexer": "ipython3",
   "version": "3.7.9"
  }
 },
 "nbformat": 4,
 "nbformat_minor": 4
}
